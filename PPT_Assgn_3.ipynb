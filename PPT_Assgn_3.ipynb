{
 "cells": [
  {
   "cell_type": "markdown",
   "id": "d62be757-ec9a-4baf-ab4c-5c53dda06ac7",
   "metadata": {},
   "source": [
    "Question 1\n",
    "Given an integer array nums of length n and an integer target, find three integers\n",
    "in nums such that the sum is closest to the target.\n",
    "Return the sum of the three integers.\n",
    "\n",
    "You may assume that each input would have exactly one solution.\n",
    "\n",
    "Example 1:\n",
    "Input: nums = [-1,2,1,-4], target = 1\n",
    "Output: 2\n",
    "\n",
    "Explanation: The sum that is closest to the target is 2. (-1 + 2 + 1 = 2)."
   ]
  },
  {
   "cell_type": "code",
   "execution_count": 1,
   "id": "43de2167-535b-4a74-a28e-44f7ec844199",
   "metadata": {},
   "outputs": [],
   "source": [
    "###Ans_1.\n",
    "def threeSumClosest(nums, target):\n",
    "        nums.sort()\n",
    "        differ = float('inf')\n",
    "        for i in range(len(nums)):\n",
    "            st = i+1\n",
    "            end = len(nums)-1\n",
    "            while st<end:\n",
    "                sum = nums[i]+nums[st]+nums[end]\n",
    "                if sum == target:\n",
    "                    return target\n",
    "                elif abs(target-sum)<differ:\n",
    "                    differ = abs(target-sum)\n",
    "                    ans = sum\n",
    "                if sum > target:\n",
    "                    end -=1\n",
    "                else :\n",
    "                    st +=1\n",
    "        return ans    "
   ]
  },
  {
   "cell_type": "code",
   "execution_count": 2,
   "id": "fcb3adbe-a23c-46cb-955d-5b504a0d3eb4",
   "metadata": {},
   "outputs": [
    {
     "data": {
      "text/plain": [
       "2"
      ]
     },
     "execution_count": 2,
     "metadata": {},
     "output_type": "execute_result"
    }
   ],
   "source": [
    "threeSumClosest([-1,2,1,-4],1)"
   ]
  },
  {
   "cell_type": "markdown",
   "id": "2a029c88-db03-4bea-a714-efc115b4251f",
   "metadata": {},
   "source": [
    "Question 2\n",
    "Given an array nums of n integers, return an array of all the unique quadruplets\n",
    "[nums[a], nums[b], nums[c], nums[d]] such that:\n",
    "           ● 0 <= a, b, c, d < n\n",
    "           ● a, b, c, and d are distinct.\n",
    "           ● nums[a] + nums[b] + nums[c] + nums[d] == target\n",
    "\n",
    "You may return the answer in any order.\n",
    "\n",
    "Example 1:\n",
    "Input: nums = [1,0,-1,0,-2,2], target = 0\n",
    "Output: [[-2,-1,1,2],[-2,0,0,2],[-1,0,0,1]]"
   ]
  },
  {
   "cell_type": "code",
   "execution_count": 3,
   "id": "41cecf48-b089-4e88-a4fa-2fb8b28efc89",
   "metadata": {},
   "outputs": [],
   "source": [
    "###Ans_2.\n",
    "def four_sum(nums, target):\n",
    "    n = len(nums)\n",
    "    ans = set()\n",
    "    for i in range(n-3):\n",
    "        for j in range(i+1, n-2):\n",
    "            for k in range(j+1, n-1):\n",
    "                for l in range(k+1, n):\n",
    "                    if nums[i] + nums[j] + nums[k] + nums[l] == target:\n",
    "                        ans.add(tuple(sorted((nums[i], nums[j], nums[k], nums[l]))))\n",
    "        \n",
    "    res = []\n",
    "    for i in ans:\n",
    "        res += list(i),\n",
    "    return res   "
   ]
  },
  {
   "cell_type": "code",
   "execution_count": 4,
   "id": "08f95fd0-b39c-426a-ae3a-17ab7e86d777",
   "metadata": {},
   "outputs": [
    {
     "data": {
      "text/plain": [
       "[[-2, -1, 1, 2], [-1, 0, 0, 1], [-2, 0, 0, 2]]"
      ]
     },
     "execution_count": 4,
     "metadata": {},
     "output_type": "execute_result"
    }
   ],
   "source": [
    "four_sum([1,0,-1,0,-2,2],0)"
   ]
  },
  {
   "cell_type": "markdown",
   "id": "05bb74d2-8438-401a-9724-95a9d45fc8e2",
   "metadata": {},
   "source": [
    "💡 **Question 3**\n",
    "A permutation of an array of integers is an arrangement of its members into a sequence or linear order.\n",
    "For example, for arr = [1,2,3], the following are all the permutations of arr:\n",
    "[1,2,3], [1,3,2], [2, 1, 3], [2, 3, 1], [3,1,2], [3,2,1].\n",
    "\n",
    "The next permutation of an array of integers is the next lexicographically greater permutation of its integer. More formally, if all the permutations of the array are sorted in one container according to their lexicographical order, then the next permutation of that array is the permutation that follows it in the sorted container.\n",
    "\n",
    "If such an arrangement is not possible, the array must be rearranged as the lowest possible order (i.e., sorted in ascending order).\n",
    "\n",
    "● For example, the next permutation of arr = [1,2,3] is [1,3,2].\n",
    "● Similarly, the next permutation of arr = [2,3,1] is [3,1,2].\n",
    "● While the next permutation of arr = [3,2,1] is [1,2,3] because [3,2,1] does not\n",
    "have a lexicographical larger rearrangement.\n",
    "\n",
    "Given an array of integers nums, find the next permutation of nums. The replacement must be in place and use only constant extra memory.\n",
    "\n",
    "**Example 1:**\n",
    "Input: nums = [1,2,3]\n",
    "Output: [1,3,2]"
   ]
  },
  {
   "cell_type": "code",
   "execution_count": 6,
   "id": "86d687a1-8291-4c12-bc29-d3a07f4bb411",
   "metadata": {},
   "outputs": [],
   "source": [
    "###Ans_3.\n",
    "def nextPermutation(nums):\n",
    "    n = len(nums)\n",
    "    i = n - 2  \n",
    "    while i >= 0 and nums[i] >= nums[i+1]:\n",
    "        i -= 1\n",
    "    if i >= 0:\n",
    "        j = n - 1        \n",
    "        while j >= 0 and nums[j] <= nums[i]:\n",
    "            j -= 1\n",
    "        nums[i], nums[j] = nums[j], nums[i]\n",
    "    left = i + 1\n",
    "    right = n - 1\n",
    "    while left < right:\n",
    "        nums[left], nums[right] = nums[right], nums[left]\n",
    "        left += 1\n",
    "        right -= 1\n",
    "\n",
    "    return nums"
   ]
  },
  {
   "cell_type": "code",
   "execution_count": 7,
   "id": "221312f6-5630-438c-8bdd-0f9685b2ad3d",
   "metadata": {},
   "outputs": [
    {
     "data": {
      "text/plain": [
       "[1, 3, 2]"
      ]
     },
     "execution_count": 7,
     "metadata": {},
     "output_type": "execute_result"
    }
   ],
   "source": [
    "nextPermutation([1,2,3])"
   ]
  },
  {
   "cell_type": "markdown",
   "id": "87ba35b2-5292-4735-a7a8-1fde0fd33234",
   "metadata": {},
   "source": [
    "Question 4\n",
    "Given a sorted array of distinct integers and a target value, return the index if the\n",
    "target is found. If not, return the index where it would be if it were inserted in\n",
    "order.\n",
    "\n",
    "You must write an algorithm with O(log n) runtime complexity.\n",
    "\n",
    "Example 1:\n",
    "Input: nums = [1,3,5,6], target = 5\n",
    "Output: 2"
   ]
  },
  {
   "cell_type": "code",
   "execution_count": 7,
   "id": "01dafcdc-06ad-4dc0-9b9a-7aca72c4d9f5",
   "metadata": {},
   "outputs": [],
   "source": [
    "###Ans_4.\n",
    "def find_target_index(nums, target):\n",
    "    low = 0\n",
    "    high = len(nums)-1\n",
    "    while low <=high:\n",
    "        mid = (low + high) // 2\n",
    "        if nums[mid] < target:\n",
    "            low = mid +1\n",
    "        elif nums[mid] > target:\n",
    "            high = mid -1\n",
    "        else :\n",
    "            return mid\n",
    "    return low       "
   ]
  },
  {
   "cell_type": "code",
   "execution_count": 8,
   "id": "66aefd8c-5271-4ff1-bb78-96289657011e",
   "metadata": {},
   "outputs": [
    {
     "data": {
      "text/plain": [
       "2"
      ]
     },
     "execution_count": 8,
     "metadata": {},
     "output_type": "execute_result"
    }
   ],
   "source": [
    "find_target_index([1,3,5,6],5)"
   ]
  },
  {
   "cell_type": "markdown",
   "id": "b6754426-d453-4501-9d2e-494f7b3960fc",
   "metadata": {},
   "source": [
    "💡 **Question 5**\n",
    "You are given a large integer represented as an integer array digits, where each\n",
    "digits[i] is the ith digit of the integer. The digits are ordered from most significant\n",
    "to least significant in left-to-right order. The large integer does not contain any\n",
    "leading 0's.\n",
    "\n",
    "Increment the large integer by one and return the resulting array of digits.\n",
    "\n",
    "**Example 1:**\n",
    "Input: digits = [1,2,3]\n",
    "Output: [1,2,4]\n",
    "\n",
    "**Explanation:** The array represents the integer 123.\n",
    "Incrementing by one gives 123 + 1 = 124.\n",
    "Thus, the result should be [1,2,4]."
   ]
  },
  {
   "cell_type": "code",
   "execution_count": 9,
   "id": "34b5352c-b920-4db6-beaa-baf335614807",
   "metadata": {},
   "outputs": [],
   "source": [
    "###Ans_5.\n",
    "def plusOne(digits):\n",
    "    num = 0\n",
    "    for i in digits:\n",
    "        num = num*10 + i%10\n",
    "    num = num+1\n",
    "    temp = []\n",
    "    while num>0:\n",
    "        x = num%10\n",
    "        temp.append(x)\n",
    "        num = num//10\n",
    "    temp.reverse()\n",
    "    return temp"
   ]
  },
  {
   "cell_type": "code",
   "execution_count": 10,
   "id": "157b39cf-2db0-4c92-8cd2-56d5a380ade3",
   "metadata": {},
   "outputs": [
    {
     "data": {
      "text/plain": [
       "[1, 2, 4]"
      ]
     },
     "execution_count": 10,
     "metadata": {},
     "output_type": "execute_result"
    }
   ],
   "source": [
    "plusOne([1,2,3])"
   ]
  },
  {
   "cell_type": "markdown",
   "id": "f85f3f7d-36fd-419d-b7b8-2abdf058fe61",
   "metadata": {},
   "source": [
    "Question 6\n",
    "Given a non-empty array of integers nums, every element appears twice except\n",
    "for one. Find that single one.\n",
    "\n",
    "You must implement a solution with a linear runtime complexity and use only\n",
    "constant extra space.\n",
    "\n",
    "Example 1:\n",
    "Input: nums = [2,2,1]\n",
    "Output: 1"
   ]
  },
  {
   "cell_type": "code",
   "execution_count": 31,
   "id": "8ed4c1f8-d2d7-42bd-b3a8-e6d1b37f24c1",
   "metadata": {},
   "outputs": [],
   "source": [
    "###Ans_6.\n",
    "def single_one(nums):\n",
    "    for i in range(1, len(nums)):\n",
    "        nums[0] ^= nums[i]\n",
    "    return nums[0]"
   ]
  },
  {
   "cell_type": "code",
   "execution_count": 32,
   "id": "8579ab49-bedc-451c-8952-81600b8960ba",
   "metadata": {},
   "outputs": [
    {
     "data": {
      "text/plain": [
       "1"
      ]
     },
     "execution_count": 32,
     "metadata": {},
     "output_type": "execute_result"
    }
   ],
   "source": [
    "single_one([2,2,1])"
   ]
  },
  {
   "cell_type": "code",
   "execution_count": 33,
   "id": "a0426666-d54d-4810-9cc8-3c8ec5a5a7a9",
   "metadata": {},
   "outputs": [
    {
     "data": {
      "text/plain": [
       "4"
      ]
     },
     "execution_count": 33,
     "metadata": {},
     "output_type": "execute_result"
    }
   ],
   "source": [
    "single_one([4,1,2,1,2])"
   ]
  },
  {
   "cell_type": "markdown",
   "id": "0a29a45c-880e-4e08-a22f-5bccb9f00244",
   "metadata": {},
   "source": [
    "Question 7\n",
    "You are given an inclusive range [lower, upper] and a sorted unique integer array\n",
    "nums, where all elements are within the inclusive range.\n",
    "\n",
    "A number x is considered missing if x is in the range [lower, upper] and x is not in\n",
    "nums.\n",
    "\n",
    "Return the shortest sorted list of ranges that exactly covers all the missing\n",
    "numbers. That is, no element of nums is included in any of the ranges, and each\n",
    "missing number is covered by one of the ranges.\n",
    "\n",
    "Example 1:\n",
    "Input: nums = [0,1,3,50,75], lower = 0, upper = 99\n",
    "Output: [[2,2],[4,49],[51,74],[76,99]]\n",
    "\n",
    "Explanation: The ranges are:\n",
    "[2,2]\n",
    "[4,49]\n",
    "[51,74]\n",
    "[76,99]"
   ]
  },
  {
   "cell_type": "code",
   "execution_count": 1,
   "id": "bf648433-4301-4da8-a447-a5985d2bdc47",
   "metadata": {},
   "outputs": [],
   "source": [
    "###Ans_7.\n",
    "def missing_num(nums, lower, upper):\n",
    "    result = []\n",
    "    prev = lower - 1\n",
    "\n",
    "    for num in nums:\n",
    "        if num > prev + 1:\n",
    "            result.append([prev + 1, num - 1])\n",
    "        prev = num\n",
    "\n",
    "    if prev < upper:\n",
    "        result.append([prev + 1, upper])\n",
    "\n",
    "    return result"
   ]
  },
  {
   "cell_type": "code",
   "execution_count": 2,
   "id": "0badb091-941e-4333-85e9-6733b7143726",
   "metadata": {},
   "outputs": [
    {
     "data": {
      "text/plain": [
       "[[2, 2], [4, 49], [51, 74], [76, 99]]"
      ]
     },
     "execution_count": 2,
     "metadata": {},
     "output_type": "execute_result"
    }
   ],
   "source": [
    "missing_num([0,1,3,50,75],0,99)"
   ]
  },
  {
   "cell_type": "markdown",
   "id": "bd16601d-8f12-47f2-b88e-92ff484a0b57",
   "metadata": {},
   "source": [
    "Question 8\n",
    "Given an array of meeting time intervals where intervals[i] = [starti, endi],\n",
    "determine if a person could attend all meetings.\n",
    "\n",
    "Example 1:\n",
    "Input: intervals = [[0,30],[5,10],[15,20]]\n",
    "Output: false"
   ]
  },
  {
   "cell_type": "code",
   "execution_count": 4,
   "id": "7a4f5f0d-49fa-4165-b54b-9bd2cbd7cda0",
   "metadata": {},
   "outputs": [],
   "source": [
    "###Ans_8.\n",
    "def attend_meeting(intervals):\n",
    "    intervals.sort(key=lambda x: x[0])\n",
    "\n",
    "    for i in range(1, len(intervals)):\n",
    "        if intervals[i][0] < intervals[i - 1][1]:\n",
    "            return False\n",
    "\n",
    "    return True"
   ]
  },
  {
   "cell_type": "code",
   "execution_count": 5,
   "id": "b7cae68e-dcf1-4bef-b4ec-81f4bcd9fa98",
   "metadata": {},
   "outputs": [
    {
     "data": {
      "text/plain": [
       "False"
      ]
     },
     "execution_count": 5,
     "metadata": {},
     "output_type": "execute_result"
    }
   ],
   "source": [
    "attend_meeting([[0,30],[5,10],[15,20]])"
   ]
  },
  {
   "cell_type": "code",
   "execution_count": null,
   "id": "dcb356c7-2a3c-4c0e-ad9f-dcd613b7484b",
   "metadata": {},
   "outputs": [],
   "source": []
  }
 ],
 "metadata": {
  "kernelspec": {
   "display_name": "Python 3 (ipykernel)",
   "language": "python",
   "name": "python3"
  },
  "language_info": {
   "codemirror_mode": {
    "name": "ipython",
    "version": 3
   },
   "file_extension": ".py",
   "mimetype": "text/x-python",
   "name": "python",
   "nbconvert_exporter": "python",
   "pygments_lexer": "ipython3",
   "version": "3.10.8"
  }
 },
 "nbformat": 4,
 "nbformat_minor": 5
}
